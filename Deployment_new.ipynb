{
 "cells": [
  {
   "cell_type": "code",
   "execution_count": 1,
   "id": "81cba0fb",
   "metadata": {},
   "outputs": [
    {
     "name": "stderr",
     "output_type": "stream",
     "text": [
      "[nltk_data] Downloading package punkt to\n",
      "[nltk_data]     C:\\Users\\hp\\AppData\\Roaming\\nltk_data...\n",
      "[nltk_data]   Package punkt is already up-to-date!\n",
      "[nltk_data] Downloading package wordnet to\n",
      "[nltk_data]     C:\\Users\\hp\\AppData\\Roaming\\nltk_data...\n",
      "[nltk_data]   Package wordnet is already up-to-date!\n",
      "[nltk_data] Downloading package stopwords to\n",
      "[nltk_data]     C:\\Users\\hp\\AppData\\Roaming\\nltk_data...\n",
      "[nltk_data]   Package stopwords is already up-to-date!\n"
     ]
    }
   ],
   "source": [
    "import pandas as pd\n",
    "import numpy as np\n",
    "import nltk\n",
    "import re\n",
    "from nltk.corpus import stopwords\n",
    "from nltk.stem.porter import PorterStemmer\n",
    "import pickle as pk\n",
    "\n",
    "\n",
    "model_svc = pk.load(open('model.pkl', 'rb'))\n",
    "tv = pk.load(open('tv.pkl', 'rb'))\n",
    "lb = pk.load(open('lb.pkl', 'rb'))\n",
    "\n",
    "\n",
    "nltk.download('punkt')\n",
    "nltk.download('wordnet')\n",
    "nltk.download('stopwords')\n",
    "ps = PorterStemmer()"
   ]
  },
  {
   "cell_type": "code",
   "execution_count": 2,
   "id": "08f267ef",
   "metadata": {},
   "outputs": [],
   "source": [
    "sailor_df = pd.read_json('sailorapp.json')\n",
    "input_data = sailor_df['Description']"
   ]
  },
  {
   "cell_type": "code",
   "execution_count": 12,
   "id": "9f3e0caa",
   "metadata": {},
   "outputs": [],
   "source": [
    "def preprocess_text(text):\n",
    "   \n",
    "    review = re.sub('[^a-zA-Z]', ' ', text)\n",
    "    review = review.lower()\n",
    "    review = review.split()\n",
    "    review = [ps.stem(word) for word in review if not word in stopwords.words('english')]\n",
    "    review = ' '.join(review)\n",
    "    return review\n",
    "\n",
    "def predict_descriptions(input_data):\n",
    "    batch_size = 100\n",
    "    num_batches = (len(input_data) // batch_size) + 1\n",
    "    predictions = []\n",
    "    confidences = []\n",
    "\n",
    "    for i in range(num_batches):\n",
    "        start_idx = i * batch_size\n",
    "        end_idx = min((i + 1) * batch_size, len(input_data))\n",
    "        batch_descriptions = input_data.iloc[start_idx:end_idx]\n",
    "        processed_descriptions = batch_descriptions.apply(preprocess_text)\n",
    "        vectorized_data = tv.transform(processed_descriptions)\n",
    "       \n",
    "        dense_vectorized_data = vectorized_data.toarray()\n",
    "        \n",
    "        batch_predictions = model_svc.predict(dense_vectorized_data)\n",
    "        batch_confidences = model_svc.predict_proba(dense_vectorized_data)\n",
    "\n",
    "        predictions.extend(batch_predictions)\n",
    "        confidences.extend(batch_confidences.max(axis=1))\n",
    "\n",
    "    predicted_labels = lb.inverse_transform(predictions)\n",
    "    return predicted_labels, confidences\n",
    "\n"
   ]
  },
  {
   "cell_type": "code",
   "execution_count": 13,
   "id": "da3a4dca",
   "metadata": {},
   "outputs": [],
   "source": [
    "predictions, confidences = predict_descriptions(input_data)\n",
    "\n",
    "predictions_df = pd.DataFrame(input_data, columns=['Description'])\n",
    "predictions_df['Predicted_Label'] = predictions\n",
    "predictions_df['Confidence_Score'] = confidences"
   ]
  },
  {
   "cell_type": "code",
   "execution_count": 14,
   "id": "5e7f74b9",
   "metadata": {},
   "outputs": [
    {
     "data": {
      "text/html": [
       "<div>\n",
       "<style scoped>\n",
       "    .dataframe tbody tr th:only-of-type {\n",
       "        vertical-align: middle;\n",
       "    }\n",
       "\n",
       "    .dataframe tbody tr th {\n",
       "        vertical-align: top;\n",
       "    }\n",
       "\n",
       "    .dataframe thead th {\n",
       "        text-align: right;\n",
       "    }\n",
       "</style>\n",
       "<table border=\"1\" class=\"dataframe\">\n",
       "  <thead>\n",
       "    <tr style=\"text-align: right;\">\n",
       "      <th></th>\n",
       "      <th>Description</th>\n",
       "      <th>Predicted_Label</th>\n",
       "      <th>Confidence_Score</th>\n",
       "    </tr>\n",
       "  </thead>\n",
       "  <tbody>\n",
       "    <tr>\n",
       "      <th>0</th>\n",
       "      <td>Steps to reproduce:\\r\\n\\r\\n1) Launch 'VV App' ...</td>\n",
       "      <td>Valid</td>\n",
       "      <td>0.892974</td>\n",
       "    </tr>\n",
       "    <tr>\n",
       "      <th>1</th>\n",
       "      <td>Steps to reproduce:\\r\\n\\r\\n1) Launch 'VV App' ...</td>\n",
       "      <td>Valid</td>\n",
       "      <td>0.885809</td>\n",
       "    </tr>\n",
       "    <tr>\n",
       "      <th>2</th>\n",
       "      <td>Steps to reproduce:\\r\\n\\r\\n1) Launch 'VV App' ...</td>\n",
       "      <td>Valid</td>\n",
       "      <td>0.882104</td>\n",
       "    </tr>\n",
       "    <tr>\n",
       "      <th>3</th>\n",
       "      <td>*Known issue, QA team is raising it for tracki...</td>\n",
       "      <td>Valid</td>\n",
       "      <td>0.864006</td>\n",
       "    </tr>\n",
       "    <tr>\n",
       "      <th>4</th>\n",
       "      <td>*Known issue, QA team is raising it for tracki...</td>\n",
       "      <td>Valid</td>\n",
       "      <td>0.885835</td>\n",
       "    </tr>\n",
       "    <tr>\n",
       "      <th>...</th>\n",
       "      <td>...</td>\n",
       "      <td>...</td>\n",
       "      <td>...</td>\n",
       "    </tr>\n",
       "    <tr>\n",
       "      <th>5422</th>\n",
       "      <td>Build: PI7.6\\n\\nUnable to launch Crew App appl...</td>\n",
       "      <td>Valid</td>\n",
       "      <td>0.865099</td>\n",
       "    </tr>\n",
       "    <tr>\n",
       "      <th>5423</th>\n",
       "      <td>Date: 19th Jul 202\\r\\nVoyage Roll Over Took Pl...</td>\n",
       "      <td>Invalid</td>\n",
       "      <td>0.746391</td>\n",
       "    </tr>\n",
       "    <tr>\n",
       "      <th>5424</th>\n",
       "      <td>As per the definition in the Air Table [https:...</td>\n",
       "      <td>Valid</td>\n",
       "      <td>0.885852</td>\n",
       "    </tr>\n",
       "    <tr>\n",
       "      <th>5425</th>\n",
       "      <td>1. Select Future Voyage from the Voyage Drop D...</td>\n",
       "      <td>Invalid</td>\n",
       "      <td>0.848726</td>\n",
       "    </tr>\n",
       "    <tr>\n",
       "      <th>5426</th>\n",
       "      <td>Log in ARS Admin\\r\\n1. Click on Bookings Tab i...</td>\n",
       "      <td>Invalid</td>\n",
       "      <td>0.869552</td>\n",
       "    </tr>\n",
       "  </tbody>\n",
       "</table>\n",
       "<p>5427 rows × 3 columns</p>\n",
       "</div>"
      ],
      "text/plain": [
       "                                            Description Predicted_Label  \\\n",
       "0     Steps to reproduce:\\r\\n\\r\\n1) Launch 'VV App' ...           Valid   \n",
       "1     Steps to reproduce:\\r\\n\\r\\n1) Launch 'VV App' ...           Valid   \n",
       "2     Steps to reproduce:\\r\\n\\r\\n1) Launch 'VV App' ...           Valid   \n",
       "3     *Known issue, QA team is raising it for tracki...           Valid   \n",
       "4     *Known issue, QA team is raising it for tracki...           Valid   \n",
       "...                                                 ...             ...   \n",
       "5422  Build: PI7.6\\n\\nUnable to launch Crew App appl...           Valid   \n",
       "5423  Date: 19th Jul 202\\r\\nVoyage Roll Over Took Pl...         Invalid   \n",
       "5424  As per the definition in the Air Table [https:...           Valid   \n",
       "5425  1. Select Future Voyage from the Voyage Drop D...         Invalid   \n",
       "5426  Log in ARS Admin\\r\\n1. Click on Bookings Tab i...         Invalid   \n",
       "\n",
       "      Confidence_Score  \n",
       "0             0.892974  \n",
       "1             0.885809  \n",
       "2             0.882104  \n",
       "3             0.864006  \n",
       "4             0.885835  \n",
       "...                ...  \n",
       "5422          0.865099  \n",
       "5423          0.746391  \n",
       "5424          0.885852  \n",
       "5425          0.848726  \n",
       "5426          0.869552  \n",
       "\n",
       "[5427 rows x 3 columns]"
      ]
     },
     "execution_count": 14,
     "metadata": {},
     "output_type": "execute_result"
    }
   ],
   "source": [
    "predictions_df"
   ]
  },
  {
   "cell_type": "code",
   "execution_count": 17,
   "id": "fc639d02",
   "metadata": {},
   "outputs": [
    {
     "data": {
      "text/plain": [
       "Predicted_Label\n",
       "Valid      3059\n",
       "Invalid    2368\n",
       "dtype: int64"
      ]
     },
     "execution_count": 17,
     "metadata": {},
     "output_type": "execute_result"
    }
   ],
   "source": [
    "predictions_df.value_counts('Predicted_Label')"
   ]
  },
  {
   "cell_type": "code",
   "execution_count": null,
   "id": "cfc69564",
   "metadata": {},
   "outputs": [],
   "source": []
  }
 ],
 "metadata": {
  "kernelspec": {
   "display_name": "Python 3 (ipykernel)",
   "language": "python",
   "name": "python3"
  },
  "language_info": {
   "codemirror_mode": {
    "name": "ipython",
    "version": 3
   },
   "file_extension": ".py",
   "mimetype": "text/x-python",
   "name": "python",
   "nbconvert_exporter": "python",
   "pygments_lexer": "ipython3",
   "version": "3.11.2"
  }
 },
 "nbformat": 4,
 "nbformat_minor": 5
}
